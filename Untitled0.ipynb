{
  "nbformat": 4,
  "nbformat_minor": 0,
  "metadata": {
    "colab": {
      "name": "Untitled0.ipynb",
      "private_outputs": true,
      "provenance": [],
      "toc_visible": true,
      "include_colab_link": true
    },
    "kernelspec": {
      "name": "python3",
      "display_name": "Python 3"
    },
    "language_info": {
      "name": "python"
    }
  },
  "cells": [
    {
      "cell_type": "markdown",
      "metadata": {
        "id": "view-in-github",
        "colab_type": "text"
      },
      "source": [
        "<a href=\"https://colab.research.google.com/github/sumana28/CBM202_Olympics/blob/main/Untitled0.ipynb\" target=\"_parent\"><img src=\"https://colab.research.google.com/assets/colab-badge.svg\" alt=\"Open In Colab\"/></a>"
      ]
    },
    {
      "cell_type": "markdown",
      "source": [
        ""
      ],
      "metadata": {
        "id": "Yo-srHfp_6uh"
      }
    },
    {
      "cell_type": "markdown",
      "source": [
        "# 1 Data selection"
      ],
      "metadata": {
        "id": "QtL7AZyCACRj"
      }
    },
    {
      "cell_type": "markdown",
      "source": [
        "## 1.1 Data Preparation\n",
        "### 1.1.1 Data Understanding"
      ],
      "metadata": {
        "id": "zkNy9niPAIYJ"
      }
    },
    {
      "cell_type": "markdown",
      "source": [
        "# 2 Data Visualisation"
      ],
      "metadata": {
        "id": "wxpJCbMgDgoy"
      }
    },
    {
      "cell_type": "markdown",
      "source": [
        ""
      ],
      "metadata": {
        "id": "FkmzEnyYD16R"
      }
    },
    {
      "cell_type": "markdown",
      "source": [
        ""
      ],
      "metadata": {
        "id": "0f0ZPhVHCQeg"
      }
    }
  ]
}
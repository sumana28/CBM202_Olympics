{
  "nbformat": 4,
  "nbformat_minor": 0,
  "metadata": {
    "colab": {
      "name": "Untitled0.ipynb",
      "private_outputs": true,
      "provenance": [],
      "toc_visible": true,
      "include_colab_link": true
    },
    "kernelspec": {
      "name": "python3",
      "display_name": "Python 3"
    },
    "language_info": {
      "name": "python"
    }
  },
  "cells": [
    {
      "cell_type": "markdown",
      "metadata": {
        "id": "view-in-github",
        "colab_type": "text"
      },
      "source": [
        "<a href=\"https://colab.research.google.com/github/sumana28/CBM202_Olympics/blob/main/Untitled0.ipynb\" target=\"_parent\"><img src=\"https://colab.research.google.com/assets/colab-badge.svg\" alt=\"Open In Colab\"/></a>"
      ]
    },
    {
      "cell_type": "markdown",
      "source": [
        ""
      ],
      "metadata": {
        "id": "Yo-srHfp_6uh"
      }
    },
    {
      "cell_type": "markdown",
      "source": [
        "## 1. Data selection"
      ],
      "metadata": {
        "id": "QtL7AZyCACRj"
      }
    },
    {
      "cell_type": "markdown",
      "source": [
        ""
      ],
      "metadata": {
        "id": "jN94tI4rCxGw"
      }
    },
    {
      "cell_type": "markdown",
      "source": [
        "## 1.1 Data Preparation\n",
        "\n",
        "We have a total of three datasets in that were sourced from different data repositories; namely *Kaggle.com* and *Data.world.* The datasets **120 years olympic history**  and **Olympic country**  were sourced from Kaggle.com while the third dataset, **world happinees report**  was sourced from data.world data repository. \n",
        "\n"
      ],
      "metadata": {
        "id": "zkNy9niPAIYJ"
      }
    },
    {
      "cell_type": "markdown",
      "source": [
        "## 1.2 Data Understanding\n",
        "\n",
        "**i. The 120years of Olympic Dataset** : https://www.kaggle.com/heesoo37/120-years-of-olympic-history-athletes-and-results.\n",
        "\n",
        "The 120years of Olympic dataset a historical dataset on the modern Olympic Games, it includes all the Games from Athens 1896 to Rio 2016. \n",
        "\n",
        "Both Winter and Summer Games were held in the same year up until 1992. After which the games where re-scheduled such that each of the Games happens every four years with Winter Games starting in 1994 then Summer starting from 1996. \n",
        "\n",
        "The file athlete_events.csv contains 271116 rows and 15 columns. Each row corresponds to an individual athlete competing in an individual Olympic event (athlete-events). **We intend to use ... variables; ,,** See apendix for the data dictionary\n",
        "\n",
        "The datase in CSV format.\n",
        "\n",
        "**ii. The Olympic Country Dataset**\n",
        "\n",
        "\n",
        "**iii. The World Happiness Report Dataset** : https://data.world/laurel/world-happiness-report-data/workspace/file?filename=online-data-chapter-2-whr-2017.xlsx\n",
        "\n",
        "This report was launched on March 20th 2017 published by the Sustainable Development Solutions Network. This dataset contains twenty seven variables out of which we intend to use only three; Country, Log GPD per capita (gdp) and Happiness Score (Ladder).\n",
        "\n",
        "**Country **- represents the names of **..** countries \n",
        "\n",
        "**Happiness score or subjective well-being (variable name ladder ):** The data source measure of SWB is from the Dec 23, 2016 release of the Gallup World Poll (GWP), which covers the years from 2005 to 2016. \n",
        "\n",
        "**The statistics of GDP per capita (variable name gdp)** in purchasing power parity (PPP) at constant 2011 international dollar prices are from the August 10, 2016 release of the World Development Indicators (WDI). \n",
        "\n",
        "The World Happiness Report datase is in excel format which we converted to CSV so that it can be compatible with the other two datasets.\n",
        "\n",
        "**We intend to also explore if there is any relationship between the medals won by the countries and GPD or/ and happiness of those countries. We also intend to find out wheter the weather condition had any impact on the medals won by the countries.**"
      ],
      "metadata": {
        "id": "1ggbuE-cbTYG"
      }
    },
    {
      "cell_type": "markdown",
      "source": [
        "Among your markdown cell(s):\n",
        "• Explain your motivation to pick this data and the business case to develop\n",
        "\n",
        "**Motivation**\n",
        "\n",
        "These datasets provides us an opportunity to ask questions if Olympics have any relationship or impact on a countries GPD and Happiness. It will also provide us an opportunity to explore if the weather of each paticipating country had a negative or positive impact on their performance during Summer games or WInter games. \n",
        "\n",
        "• Explain the data sets, what do they describe, and what information you intend to use from these data sets.\n",
        "\n",
        "See apendix\n",
        "\n",
        "\n",
        "• Include a citation of the source of your data set. The referencing style of the citation is not critical. It must however be clear where the data can be obtained, and which specific files were downloaded.\n",
        "\n",
        "References"
      ],
      "metadata": {
        "id": "nBdk9QyFmTW2"
      }
    },
    {
      "cell_type": "markdown",
      "source": [
        "# 2. Data Preparation"
      ],
      "metadata": {
        "id": "DKxBGatYmhsG"
      }
    },
    {
      "cell_type": "markdown",
      "source": [
        "# 3.  Data Visualisation"
      ],
      "metadata": {
        "id": "wxpJCbMgDgoy"
      }
    },
    {
      "cell_type": "markdown",
      "source": [
        "# 4. References\n",
        "\n",
        "1. "
      ],
      "metadata": {
        "id": "FkmzEnyYD16R"
      }
    },
    {
      "cell_type": "markdown",
      "source": [
        "# 5. Appendix\n",
        "\n",
        "Appendix 1 - Data dictionary for 120 years of Olympics\n",
        "https://www.kaggle.com/datasets/heesoo37/120-years-of-olympic-history-athletes-and-results\n",
        "\n",
        "Appendix 2 - Data dictionary for Olympic dataset\n",
        "\n",
        "\n",
        "Appendix 3 - Data dictionary for World Happiness Report Dataset\n",
        "https://data.world/tola123/untitledproject-4-4-2022/workspace/data-dictionary\n",
        "\n",
        "\n",
        "\n"
      ],
      "metadata": {
        "id": "0f0ZPhVHCQeg"
      }
    },
    {
      "cell_type": "code",
      "source": [
        ""
      ],
      "metadata": {
        "id": "hcB57GNHnUF-"
      },
      "execution_count": null,
      "outputs": []
    }
  ]
}